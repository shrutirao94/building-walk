{
 "cells": [
  {
   "cell_type": "code",
   "execution_count": 1,
   "id": "7f82c8b3-66a3-4837-9395-c7f580581d8f",
   "metadata": {},
   "outputs": [],
   "source": [
    "import pandas as pd\n",
    "import gensim #the library for Topic modelling\n",
    "from gensim.models.ldamulticore import LdaMulticore\n",
    "from gensim import corpora, models\n",
    "import pyLDAvis.gensim #LDA visualization library\n",
    "\n",
    "from nltk.corpus import stopwords\n",
    "import string\n",
    "from nltk.stem.wordnet import WordNetLemmatizer\n",
    "\n",
    "import warnings\n",
    "warnings.simplefilter('ignore')\n",
    "from itertools import chain"
   ]
  },
  {
   "cell_type": "code",
   "execution_count": 18,
   "id": "278b52eb-a5b1-40ea-950b-a68c495bb6ce",
   "metadata": {},
   "outputs": [],
   "source": [
    "def prepare_df(df):\n",
    "    df[\"topic\"] = df[df[\"text\"].isin(topic)]\n",
    "\n",
    "    df[[\"speaker\", 'text']] = df[\"text\"].str.split(\":\", expand=True)\n",
    "    df[\"topic\"] = df[\"topic\"].fillna(method=\"ffill\")\n",
    "    df = df[df[\"speaker\"].str.contains(\"P\")]\n",
    "    df = df[['speaker', 'topic', 'text']].reset_index(drop=True)\n",
    "    \n",
    "    return df.dropna()\n",
    "\n",
    "\n",
    "def read_text():\n",
    "    return pd.read_table(\"data/session-1-transcribed-annotated.txt\",\n",
    "                         header=None,\n",
    "                         names=[\"text\"]) \n",
    "\n",
    "def strip_spaces(df):\n",
    "    df['text'] = df[\"text\"].str.strip()\n",
    "    return df"
   ]
  },
  {
   "cell_type": "code",
   "execution_count": 19,
   "id": "a58a01da-c436-444f-81ef-23f0554f8d9d",
   "metadata": {},
   "outputs": [],
   "source": [
    "topic = [\"USAGE\", \"TECHNOLOGY\", \"EMOTION\", \"COMFORT\", \"EXPERIENCE\", \"SATISFACTION\"]\n",
    "\n",
    "df = read_text()\n",
    "df = prepare_df(df)\n",
    "df = strip_spaces(df)"
   ]
  },
  {
   "cell_type": "code",
   "execution_count": 14,
   "id": "9f705255-ac86-4e3b-8dee-be6fa8463dca",
   "metadata": {},
   "outputs": [],
   "source": [
    "#clean the data\n",
    "stop = set(stopwords.words('english'))\n",
    "exclude = set(string.punctuation)\n",
    "lemma = WordNetLemmatizer()\n",
    "\n",
    "def clean(text):\n",
    "    stop_free = ' '.join([word for word in text.lower().split() if word not in stop])\n",
    "    punc_free = ''.join(ch for ch in stop_free if ch not in exclude)\n",
    "    normalized = ' '.join([lemma.lemmatize(word) for word in punc_free.split()])\n",
    "    return normalized.split()"
   ]
  },
  {
   "cell_type": "code",
   "execution_count": 21,
   "id": "a29107a1-cc27-4bff-b2eb-2e867e6ffaa4",
   "metadata": {},
   "outputs": [],
   "source": [
    "df[\"clean_text\"] = df['text'].apply(clean)"
   ]
  },
  {
   "cell_type": "code",
   "execution_count": 22,
   "id": "e85c6f24-1ef0-4a77-a1c5-f445c6a6f2b4",
   "metadata": {},
   "outputs": [
    {
     "data": {
      "text/html": [
       "<div>\n",
       "<style scoped>\n",
       "    .dataframe tbody tr th:only-of-type {\n",
       "        vertical-align: middle;\n",
       "    }\n",
       "\n",
       "    .dataframe tbody tr th {\n",
       "        vertical-align: top;\n",
       "    }\n",
       "\n",
       "    .dataframe thead th {\n",
       "        text-align: right;\n",
       "    }\n",
       "</style>\n",
       "<table border=\"1\" class=\"dataframe\">\n",
       "  <thead>\n",
       "    <tr style=\"text-align: right;\">\n",
       "      <th></th>\n",
       "      <th>speaker</th>\n",
       "      <th>topic</th>\n",
       "      <th>text</th>\n",
       "      <th>clean_text</th>\n",
       "    </tr>\n",
       "  </thead>\n",
       "  <tbody>\n",
       "    <tr>\n",
       "      <th>0</th>\n",
       "      <td>P*</td>\n",
       "      <td>USAGE</td>\n",
       "      <td>Mainly groups working together as it's an open...</td>\n",
       "      <td>[mainly, group, working, together, open, envir...</td>\n",
       "    </tr>\n",
       "    <tr>\n",
       "      <th>1</th>\n",
       "      <td>P*</td>\n",
       "      <td>USAGE</td>\n",
       "      <td>I also like quite a non-stressy work. Like jus...</td>\n",
       "      <td>[also, like, quite, nonstressy, work, like, ca...</td>\n",
       "    </tr>\n",
       "    <tr>\n",
       "      <th>2</th>\n",
       "      <td>P</td>\n",
       "      <td>USAGE</td>\n",
       "      <td>You could also use it for a lunch or something.</td>\n",
       "      <td>[could, also, use, lunch, something]</td>\n",
       "    </tr>\n",
       "    <tr>\n",
       "      <th>3</th>\n",
       "      <td>P</td>\n",
       "      <td>TECHNOLOGY</td>\n",
       "      <td>How smart do you think this place is? How do y...</td>\n",
       "      <td>[smart, think, place, is, think, technology, i...</td>\n",
       "    </tr>\n",
       "    <tr>\n",
       "      <th>4</th>\n",
       "      <td>P</td>\n",
       "      <td>TECHNOLOGY</td>\n",
       "      <td>It's not really smart, I think. There are some...</td>\n",
       "      <td>[really, smart, think, socket, know, corner, s...</td>\n",
       "    </tr>\n",
       "    <tr>\n",
       "      <th>...</th>\n",
       "      <td>...</td>\n",
       "      <td>...</td>\n",
       "      <td>...</td>\n",
       "      <td>...</td>\n",
       "    </tr>\n",
       "    <tr>\n",
       "      <th>131</th>\n",
       "      <td>P*</td>\n",
       "      <td>SATISFACTION</td>\n",
       "      <td>Cottage like. Cottage like. Which is cozy. But...</td>\n",
       "      <td>[cottage, like, cottage, like, cozy, like, spe...</td>\n",
       "    </tr>\n",
       "    <tr>\n",
       "      <th>132</th>\n",
       "      <td>P*</td>\n",
       "      <td>SATISFACTION</td>\n",
       "      <td>I feel at peace, this space is I know Roomy.</td>\n",
       "      <td>[feel, peace, space, know, roomy]</td>\n",
       "    </tr>\n",
       "    <tr>\n",
       "      <th>133</th>\n",
       "      <td>P</td>\n",
       "      <td>SATISFACTION</td>\n",
       "      <td>For me it's not comfortable so… uncomfortable.</td>\n",
       "      <td>[comfortable, so…, uncomfortable]</td>\n",
       "    </tr>\n",
       "    <tr>\n",
       "      <th>134</th>\n",
       "      <td>P</td>\n",
       "      <td>SATISFACTION</td>\n",
       "      <td>Yeah, I just …the light…[from the artificial s...</td>\n",
       "      <td>[yeah, …the, light…from, artificial, spotlight...</td>\n",
       "    </tr>\n",
       "    <tr>\n",
       "      <th>135</th>\n",
       "      <td>P</td>\n",
       "      <td>SATISFACTION</td>\n",
       "      <td>I'm feeling familiar with this place and famil...</td>\n",
       "      <td>[im, feeling, familiar, place, familiar, relax...</td>\n",
       "    </tr>\n",
       "  </tbody>\n",
       "</table>\n",
       "<p>130 rows × 4 columns</p>\n",
       "</div>"
      ],
      "text/plain": [
       "    speaker         topic                                               text   \n",
       "0        P*         USAGE  Mainly groups working together as it's an open...  \\\n",
       "1        P*         USAGE  I also like quite a non-stressy work. Like jus...   \n",
       "2         P         USAGE    You could also use it for a lunch or something.   \n",
       "3         P    TECHNOLOGY  How smart do you think this place is? How do y...   \n",
       "4         P    TECHNOLOGY  It's not really smart, I think. There are some...   \n",
       "..      ...           ...                                                ...   \n",
       "131      P*  SATISFACTION  Cottage like. Cottage like. Which is cozy. But...   \n",
       "132      P*  SATISFACTION       I feel at peace, this space is I know Roomy.   \n",
       "133       P  SATISFACTION     For me it's not comfortable so… uncomfortable.   \n",
       "134       P  SATISFACTION  Yeah, I just …the light…[from the artificial s...   \n",
       "135       P  SATISFACTION  I'm feeling familiar with this place and famil...   \n",
       "\n",
       "                                            clean_text  \n",
       "0    [mainly, group, working, together, open, envir...  \n",
       "1    [also, like, quite, nonstressy, work, like, ca...  \n",
       "2                 [could, also, use, lunch, something]  \n",
       "3    [smart, think, place, is, think, technology, i...  \n",
       "4    [really, smart, think, socket, know, corner, s...  \n",
       "..                                                 ...  \n",
       "131  [cottage, like, cottage, like, cozy, like, spe...  \n",
       "132                  [feel, peace, space, know, roomy]  \n",
       "133                  [comfortable, so…, uncomfortable]  \n",
       "134  [yeah, …the, light…from, artificial, spotlight...  \n",
       "135  [im, feeling, familiar, place, familiar, relax...  \n",
       "\n",
       "[130 rows x 4 columns]"
      ]
     },
     "execution_count": 22,
     "metadata": {},
     "output_type": "execute_result"
    }
   ],
   "source": [
    "df"
   ]
  },
  {
   "cell_type": "code",
   "execution_count": 26,
   "id": "f7a36c2d-b1a4-4aba-9f63-7b0fa6012607",
   "metadata": {},
   "outputs": [],
   "source": [
    "def create_dictionary(df):\n",
    "    dictionary = corpora.Dictionary(df['clean_text'])\n",
    "    doc_term_matrix = [dictionary.doc2bow(doc) for doc in df['clean_text'] ]\n",
    "    \n",
    "    print(\"Total no of Non Zeros in BOW:\", dictionary.num_nnz)\n",
    "    print(\"Length of document matrix:\", len(doc_term_matrix))\n",
    "\n",
    "    return doc_term_matrix"
   ]
  },
  {
   "cell_type": "code",
   "execution_count": 27,
   "id": "592f59d5-94b1-4715-ac43-7ce8ade7dfcc",
   "metadata": {},
   "outputs": [
    {
     "name": "stdout",
     "output_type": "stream",
     "text": [
      "Total no of Non Zeros in BOW: 1578\n",
      "Length of document matrix: 130\n"
     ]
    }
   ],
   "source": [
    "#create dictionary\n",
    "doc_term_matrix = create_dictionary(df)"
   ]
  },
  {
   "cell_type": "code",
   "execution_count": null,
   "id": "4152616d-fd8d-4084-94c5-6435b625eca0",
   "metadata": {},
   "outputs": [],
   "source": []
  }
 ],
 "metadata": {
  "kernelspec": {
   "display_name": "venv",
   "language": "python",
   "name": "venv"
  },
  "language_info": {
   "codemirror_mode": {
    "name": "ipython",
    "version": 3
   },
   "file_extension": ".py",
   "mimetype": "text/x-python",
   "name": "python",
   "nbconvert_exporter": "python",
   "pygments_lexer": "ipython3",
   "version": "3.10.11"
  }
 },
 "nbformat": 4,
 "nbformat_minor": 5
}
